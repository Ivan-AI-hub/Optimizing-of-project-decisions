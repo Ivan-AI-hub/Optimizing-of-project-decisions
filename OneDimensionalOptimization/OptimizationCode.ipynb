{
 "cells": [
  {
   "cell_type": "code",
   "execution_count": 111,
   "metadata": {},
   "outputs": [],
   "source": [
    "import math\n",
    "import matplotlib.pyplot as plt\n",
    "import numpy as np"
   ]
  },
  {
   "cell_type": "code",
   "execution_count": 112,
   "metadata": {},
   "outputs": [],
   "source": [
    "def f(x):\n",
    "  return  x**2 + 6 * np.exp(0.15 * x)\n",
    "\n",
    "def f_det(x):\n",
    "  return 2*x + 6 * 0.15 * np.exp(0.15 * x)"
   ]
  },
  {
   "cell_type": "code",
   "execution_count": 113,
   "metadata": {},
   "outputs": [
    {
     "data": {
      "text/plain": [
       "<matplotlib.collections.PathCollection at 0x1e7099f91d0>"
      ]
     },
     "execution_count": 113,
     "metadata": {},
     "output_type": "execute_result"
    },
    {
     "data": {
      "image/png": "[encoded data removed]",
      "text/plain": [
       "<Figure size 640x480 with 1 Axes>"
      ]
     },
     "metadata": {},
     "output_type": "display_data"
    }
   ],
   "source": [
    "\n",
    "x = np.arange(-10, 20, 0.01)\n",
    "\n",
    "y = f(x)\n",
    "y_det = f_det(x)\n",
    "\n",
    "plt.plot(x,y)\n",
    "plt.plot(x, y_det)\n",
    "plt.scatter([-0.42237717999739743], [f(-0.42237717999739743)])\n"
   ]
  },
  {
   "cell_type": "code",
   "execution_count": 114,
   "metadata": {},
   "outputs": [],
   "source": [
    "def Dichotomy(a, b, eps, function):\n",
    "  x = 0\n",
    "  beta = eps / 10\n",
    "  while(b - a > eps):\n",
    "    x = (a+b)/2\n",
    "    if function(x - beta) <  function(x + beta):\n",
    "      b = x\n",
    "    else:\n",
    "      a = x\n",
    "  return x"
   ]
  },
  {
   "cell_type": "code",
   "execution_count": 115,
   "metadata": {},
   "outputs": [],
   "source": [
    "def BlockSearch(a, b, eps, n, function):\n",
    "  t = 0\n",
    "  while(b - a > 2 * eps):\n",
    "    xk = (a+b)/2\n",
    "    yk = function(xk)\n",
    "    y = []\n",
    "    x = []\n",
    "    for i in range(n):\n",
    "        newX = a + i * ((b-a)/(n-1))\n",
    "        x.append(newX)\n",
    "        y.append(function(newX))\n",
    "    min_y_val_index = np.argmin(y)\n",
    "\n",
    "    a = x[min_y_val_index-1]\n",
    "    b = x[min_y_val_index+1]\n",
    "    xk = x[min_y_val_index]\n",
    "    yk = y[min_y_val_index]\n",
    "    t+=1\n",
    "  return xk"
   ]
  },
  {
   "cell_type": "code",
   "execution_count": 116,
   "metadata": {},
   "outputs": [],
   "source": [
    "def DevisionByHalf(a, b, eps, function):\n",
    "    return BlockSearch(a, b, eps, 4, function)"
   ]
  },
  {
   "cell_type": "code",
   "execution_count": 117,
   "metadata": {},
   "outputs": [],
   "source": [
    "def GoldenRatio(a, b, eps, function):\n",
    "  lam  = 1.61803398874989\n",
    "\n",
    "  x1 = b - (b-a)/lam\n",
    "  x2 = a + (b-a)/lam\n",
    "  y1 = function(x1)\n",
    "  y2 = function(x2)\n",
    "  while(b - a > eps):\n",
    "    if y1 <  y2:\n",
    "      b = x2\n",
    "      x2 = x1\n",
    "      y2 = y1\n",
    "      x1 = a + b - x2\n",
    "      y1 = function(x1)\n",
    "    else:\n",
    "      a = x1\n",
    "      x1 = x2\n",
    "      y1 = y2\n",
    "      x2 = a + b - x1\n",
    "      y2 = function(x2)\n",
    "  \n",
    "  x = 0\n",
    "  if y1 < y2:\n",
    "    x = x1\n",
    "  else:\n",
    "    x = x2\n",
    "  return x"
   ]
  },
  {
   "cell_type": "code",
   "execution_count": 118,
   "metadata": {},
   "outputs": [],
   "source": [
    "#Функция получения значения параметра z\n",
    "def get_z_value(a, b):\n",
    "  return f_det(a) + f_det(b) + 3 * ((f(a) - f(b)) / (b - a))\n",
    "\n",
    "#Функция получения значения параметра w\n",
    "def get_w_value(z, a, b):\n",
    "  return math.sqrt((z ** 2 - f_det(a) * f_det(b)))\n",
    "\n",
    "#Функция получения значения параметра y\n",
    "def get_y_value(z, w, a, b):\n",
    "  return (z + w - f_det(a)) / (f_det(b) - f_det(a) + 2 * w)\n",
    "\n",
    "#Функция расчета значения x(шаг 1)\n",
    "def get_x_value(a, b):\n",
    "  z = get_z_value(a, b)\n",
    "  w = get_w_value(z , a, b)\n",
    "  y = get_y_value(z, w, a, b)\n",
    "  if(y >= 0 and y <= 1):\n",
    "    return a + y * (b - a)\n",
    "  elif(y < 0):\n",
    "    return a\n",
    "  else:\n",
    "    if(y > 1):\n",
    "      return b\n",
    "\n",
    "#Функция для расчета методом куб. интерполяции\n",
    "def cubic_interpolation(a, b, eps):\n",
    "  x_result = get_x_value(a, b)\n",
    "  while(abs(f_det(x_result)) > eps and x_result != a and x_result != b):\n",
    "    if(f_det(x_result) > 0):\n",
    "      b = x_result\n",
    "    else:\n",
    "      if(f_det(x_result) < 0):\n",
    "        a = x_result\n",
    "    x_result = get_x_value(a, b)\n",
    "\n",
    "  y_result = f(x_result)\n",
    "  return x_result"
   ]
  },
  {
   "cell_type": "code",
   "execution_count": 119,
   "metadata": {},
   "outputs": [
    {
     "name": "stdout",
     "output_type": "stream",
     "text": [
      "-0.4223823547363281\n"
     ]
    }
   ],
   "source": [
    "g = Dichotomy(-10,20,0.0001, f)\n",
    "print(g)"
   ]
  },
  {
   "cell_type": "code",
   "execution_count": 120,
   "metadata": {},
   "outputs": [
    {
     "name": "stdout",
     "output_type": "stream",
     "text": [
      "-0.42237432627823\n"
     ]
    }
   ],
   "source": [
    "g = BlockSearch(-10,20,0.0001,1000, f)\n",
    "print(g)"
   ]
  },
  {
   "cell_type": "code",
   "execution_count": 121,
   "metadata": {},
   "outputs": [
    {
     "name": "stdout",
     "output_type": "stream",
     "text": [
      "-0.42239586273152646\n"
     ]
    }
   ],
   "source": [
    "g = DevisionByHalf(-10,20,0.0001, f)\n",
    "print(g)"
   ]
  },
  {
   "cell_type": "code",
   "execution_count": 122,
   "metadata": {},
   "outputs": [
    {
     "name": "stdout",
     "output_type": "stream",
     "text": [
      "-0.42237717999739743\n"
     ]
    }
   ],
   "source": [
    "g = GoldenRatio(-10,20,0.0001, f)\n",
    "print(g)"
   ]
  },
  {
   "cell_type": "code",
   "execution_count": 123,
   "metadata": {},
   "outputs": [
    {
     "name": "stdout",
     "output_type": "stream",
     "text": [
      "-0.4223741330330725\n"
     ]
    }
   ],
   "source": [
    "g = cubic_interpolation(-1,2,0.0001)\n",
    "print(g)"
   ]
  }
 ],
 "metadata": {
  "kernelspec": {
   "display_name": "Python 3",
   "language": "python",
   "name": "python3"
  },
  "language_info": {
   "codemirror_mode": {
    "name": "ipython",
    "version": 3
   },
   "file_extension": ".py",
   "mimetype": "text/x-python",
   "name": "python",
   "nbconvert_exporter": "python",
   "pygments_lexer": "ipython3",
   "version": "3.11.0"
  },
  "orig_nbformat": 4,
  "vscode": {
   "interpreter": {
    "hash": "4796165581db96dfd42d56f14122ea19f7e6c9b81ead3de0b1c30379a726af38"
   }
  }
 },
 "nbformat": 4,
 "nbformat_minor": 2
}
