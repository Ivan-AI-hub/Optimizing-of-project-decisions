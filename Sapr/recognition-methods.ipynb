{
 "cells": [
  {
   "cell_type": "code",
   "execution_count": 13,
   "metadata": {},
   "outputs": [],
   "source": [
    "import numpy as np \n",
    "import os\n",
    "from PIL import Image, ImageOps\n",
    "import matplotlib.pyplot as plt\n",
    "from sklearn.decomposition import PCA\n",
    "from sklearn.metrics import accuracy_score\n",
    "from sklearn.model_selection import train_test_split"
   ]
  },
  {
   "cell_type": "code",
   "execution_count": 14,
   "metadata": {},
   "outputs": [],
   "source": [
    "def AddImage(path):\n",
    "  test_img = Image.open(path)\n",
    "\n",
    "  test_img = test_img.resize((5,5))\n",
    "  test_img = test_img.convert('L')\n",
    "  '''plt.imshow(test_img, cmap = 'gray')\n",
    "  plt.show()'''\n",
    "\n",
    "  test_x = np.array(test_img, np.float32)\n",
    "  test_x = test_x.reshape(-1,25)\n",
    "  test_x = test_x / 255\n",
    "  return test_x[0]"
   ]
  },
  {
   "cell_type": "code",
   "execution_count": 15,
   "metadata": {},
   "outputs": [],
   "source": [
    "def AddGludSmiles(x, y,folderPath):\n",
    "  for filename in os.listdir(folderPath):\n",
    "    x.append(AddImage(os.path.join(folderPath, filename)))\n",
    "    y.append(1)\n",
    "\n",
    "def AddUglySmiles(x, y,folderPath):\n",
    "  for filename in os.listdir(folderPath):\n",
    "    x.append(AddImage(os.path.join(folderPath, filename)))\n",
    "    y.append(0)"
   ]
  },
  {
   "cell_type": "code",
   "execution_count": 16,
   "metadata": {},
   "outputs": [],
   "source": [
    "x = []\n",
    "y = []\n",
    "AddUglySmiles(x,y,'GludSmiles')\n",
    "AddGludSmiles(x,y,'UglySmiles')\n",
    "x = np.array(x)\n",
    "y = np.array(y)"
   ]
  },
  {
   "cell_type": "code",
   "execution_count": 17,
   "metadata": {},
   "outputs": [],
   "source": [
    "def metric(x1,x2):\n",
    "  return np.sqrt(np.sum((x1-x2)**2))\n",
    "\n",
    "class KNN:\n",
    "  def __init__(self, k, x, y) -> None:\n",
    "      self.K = k\n",
    "      self.X = x\n",
    "      self.Y = y\n",
    "      \n",
    "  def predict(self, x):\n",
    "    pred = []\n",
    "    for i in x:\n",
    "      dists = np.array([metric(i, x_t) for x_t in self.X]) \n",
    "      dists_sort = dists.argsort()[:self.K]\n",
    "      neigh = {}\n",
    "\n",
    "      for j in dists_sort:\n",
    "        target = self.Y[j]\n",
    "        if target in neigh:\n",
    "          neigh[target] +=1\n",
    "        else:\n",
    "          neigh[target] = 1\n",
    "    \n",
    "      pred.append(max(neigh, key = neigh.get))\n",
    "    return pred\n",
    "  "
   ]
  },
  {
   "cell_type": "code",
   "execution_count": 18,
   "metadata": {},
   "outputs": [
    {
     "data": {
      "image/png": "[encoded data removed]",
      "text/plain": [
       "<Figure size 640x480 with 10 Axes>"
      ]
     },
     "metadata": {},
     "output_type": "display_data"
    }
   ],
   "source": [
    "for i in range(10):\n",
    "  plt.subplot(2,5, i+1)\n",
    "  plt.imshow(x[i].reshape(5,5), cmap = \"gray\")\n",
    "plt.show()"
   ]
  },
  {
   "cell_type": "code",
   "execution_count": 19,
   "metadata": {},
   "outputs": [
    {
     "name": "stdout",
     "output_type": "stream",
     "text": [
      "k = 1 accuracity = 1.0\n",
      "k = 3 accuracity = 0.9090909090909091\n",
      "k = 5 accuracity = 0.9090909090909091\n",
      "k = 7 accuracity = 0.7272727272727273\n"
     ]
    }
   ],
   "source": [
    "\n",
    "kVals = [1, 3, 5, 7]\n",
    "for k in kVals:\n",
    "  knn = KNN(k, x, y)\n",
    "  pred = knn.predict(x)\n",
    "  print(\"k =\",k ,'accuracity =', accuracy_score(y, pred))"
   ]
  },
  {
   "cell_type": "code",
   "execution_count": 20,
   "metadata": {},
   "outputs": [
    {
     "data": {
      "text/plain": [
       "[<matplotlib.lines.Line2D at 0x1879decdc10>]"
      ]
     },
     "execution_count": 20,
     "metadata": {},
     "output_type": "execute_result"
    },
    {
     "data": {
      "image/png": "[encoded data removed]",
      "text/plain": [
       "<Figure size 640x480 with 1 Axes>"
      ]
     },
     "metadata": {},
     "output_type": "display_data"
    }
   ],
   "source": [
    "def Hebba(weight, w0, x0, y, e):\n",
    "    #Обучает вес по правилу хебба\n",
    "    alpha = 0.4\n",
    "    w0 += (e - y)\n",
    "    return weight - alpha * x0 * (e - y)\n",
    "\n",
    "def f_sum(w,w0, x0):\n",
    "    sum = np.dot(x0, w) + w0\n",
    "    return sum\n",
    "\n",
    "def f_act(sum, T):\n",
    "    return 1 if sum > T else 0\n",
    "\n",
    "def predict(w, w0, x, T = 0):\n",
    "    y = []\n",
    "    for i in x:\n",
    "        y.append(f_act(f_sum(W,W0, i), T))\n",
    "    return y\n",
    "\n",
    "W = np.random.random(x.shape[1])\n",
    "W0 = 0\n",
    "epochs = 0\n",
    "acc = []\n",
    "E = 0\n",
    "T = 0\n",
    "while E != len(x) and epochs < 10000:\n",
    "    isAlrigth = True\n",
    "    for i in range(len(x)):\n",
    "        y_pred = f_act(f_sum(W,W0, x[i]), T)\n",
    "        if(y_pred == y[i]):\n",
    "            E +=1\n",
    "        else:\n",
    "            W = Hebba(W, W0, x[i], y[i], y_pred)\n",
    "            isAlrigth = False\n",
    "    acc.append(E/len(x))\n",
    "    epochs += 1\n",
    "    if not isAlrigth:\n",
    "        E = 0\n",
    "\n",
    "plt.plot(np.arange(epochs), acc)\n"
   ]
  },
  {
   "cell_type": "code",
   "execution_count": 21,
   "metadata": {},
   "outputs": [
    {
     "name": "stdout",
     "output_type": "stream",
     "text": [
      "pred\t [0 0 0 0 0 0 1 1 1 1 1]\n",
      "target\t [0 0 0 0 0 0 1 1 1 1 1]\n"
     ]
    }
   ],
   "source": [
    "y_pred = np.array(predict(W, W0, x, 0))\n",
    "print('pred\\t',y_pred)\n",
    "print('target\\t',y)"
   ]
  }
 ],
 "metadata": {
  "kernelspec": {
   "display_name": "Python 3",
   "language": "python",
   "name": "python3"
  },
  "language_info": {
   "codemirror_mode": {
    "name": "ipython",
    "version": 3
   },
   "file_extension": ".py",
   "mimetype": "text/x-python",
   "name": "python",
   "nbconvert_exporter": "python",
   "pygments_lexer": "ipython3",
   "version": "3.11.0"
  },
  "orig_nbformat": 4,
  "vscode": {
   "interpreter": {
    "hash": "4796165581db96dfd42d56f14122ea19f7e6c9b81ead3de0b1c30379a726af38"
   }
  }
 },
 "nbformat": 4,
 "nbformat_minor": 2
}
