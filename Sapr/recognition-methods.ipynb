{
 "cells": [
  {
   "cell_type": "code",
   "execution_count": 92,
   "metadata": {},
   "outputs": [],
   "source": [
    "import numpy as np \n",
    "import os\n",
    "from PIL import Image, ImageOps\n",
    "import matplotlib.pyplot as plt\n",
    "from sklearn.decomposition import PCA\n",
    "from sklearn.metrics import accuracy_score\n",
    "from sklearn.model_selection import train_test_split"
   ]
  },
  {
   "cell_type": "code",
   "execution_count": 93,
   "metadata": {},
   "outputs": [],
   "source": [
    "def AddImage(path):\n",
    "  test_img = Image.open(path)\n",
    "\n",
    "  test_img = test_img.resize((5,5))\n",
    "  test_img = test_img.convert('L')\n",
    "  '''plt.imshow(test_img, cmap = 'gray')\n",
    "  plt.show()'''\n",
    "\n",
    "  test_x = np.array(test_img, np.float32)\n",
    "  test_x = test_x.reshape(-1,25)\n",
    "  test_x = test_x / 255\n",
    "  return test_x[0]"
   ]
  },
  {
   "cell_type": "code",
   "execution_count": 94,
   "metadata": {},
   "outputs": [],
   "source": [
    "def AddGludSmiles(x, y,folderPath):\n",
    "  for filename in os.listdir(folderPath):\n",
    "    x.append(AddImage(os.path.join(folderPath, filename)))\n",
    "    y.append(1)\n",
    "\n",
    "def AddUglySmiles(x, y,folderPath):\n",
    "  for filename in os.listdir(folderPath):\n",
    "    x.append(AddImage(os.path.join(folderPath, filename)))\n",
    "    y.append(0)"
   ]
  },
  {
   "cell_type": "code",
   "execution_count": 95,
   "metadata": {},
   "outputs": [],
   "source": [
    "x = []\n",
    "y = []\n",
    "AddUglySmiles(x,y,'GludSmiles')\n",
    "AddGludSmiles(x,y,'UglySmiles')\n",
    "x = np.array(x)\n",
    "y = np.array(y)"
   ]
  },
  {
   "cell_type": "code",
   "execution_count": 96,
   "metadata": {},
   "outputs": [
    {
     "data": {
      "text/plain": [
       "<matplotlib.collections.PathCollection at 0x1c0431fe450>"
      ]
     },
     "execution_count": 96,
     "metadata": {},
     "output_type": "execute_result"
    },
    {
     "data": {
      "image/png": "[encoded data removed]",
      "text/plain": [
       "<Figure size 640x480 with 1 Axes>"
      ]
     },
     "metadata": {},
     "output_type": "display_data"
    }
   ],
   "source": [
    "pca = PCA(2)\n",
    "x_dr = pca.fit_transform(x)\n",
    "\n",
    "plt.scatter(x_dr[:,0], x_dr[:,1])"
   ]
  },
  {
   "cell_type": "code",
   "execution_count": 97,
   "metadata": {},
   "outputs": [],
   "source": [
    "def metric(x1,x2):\n",
    "  return np.sqrt(np.sum((x1-x2)**2))\n",
    "\n",
    "class KNN:\n",
    "  def __init__(self, k, x, y) -> None:\n",
    "      self.K = k\n",
    "      self.X = x\n",
    "      self.Y = y\n",
    "      \n",
    "  def predict(self, x):\n",
    "    pred = []\n",
    "    for i in x:\n",
    "      dists = np.array([metric(i, x_t) for x_t in self.X]) \n",
    "      dists_sort = dists.argsort()[:self.K]\n",
    "      neigh = {}\n",
    "\n",
    "      for j in dists_sort:\n",
    "        target = self.Y[j]\n",
    "        if target in neigh:\n",
    "          neigh[target] +=1\n",
    "        else:\n",
    "          neigh[target] = 1\n",
    "    \n",
    "      pred.append(max(neigh, key = neigh.get))\n",
    "    return pred\n",
    "  "
   ]
  },
  {
   "cell_type": "code",
   "execution_count": 98,
   "metadata": {},
   "outputs": [],
   "source": [
    "def Hebba(weight, x0, y, e, alpha = 0.1):\n",
    "    #Обучает вес по правилу хебба\n",
    "    return weight - alpha * x0 * (y - e)\n",
    "    \n",
    "def sigmoid(x):\n",
    "    return 1 if x > 0 else 0\n",
    "\n",
    "class Neuron:\n",
    "    def __init__(self, weights, bias =1, biasWigth = 1):\n",
    "        self.Weights = weights\n",
    "        self.DeltaWeights = np.zeros(len(weights))\n",
    "        self.Bias = bias\n",
    "        self.Beta = 0\n",
    "        self.BiasWigth = biasWigth\n",
    "    \n",
    "    def feedforward(self, inputs):\n",
    "        self.LastInput = inputs\n",
    "        total = np.dot(self.Weights, inputs) + self.Bias * self.BiasWigth\n",
    "        self.LastRezult = total\n",
    "        return sigmoid(total)\n",
    "    \n",
    "    \n",
    "    def WeightCorrection(self, function, y, e, alpha = 0.1):\n",
    "        for i in range(len(self.Weights)):\n",
    "                self.Weights[i] = function(self.Weights[i], self.LastInput[i], y, e, alpha)\n",
    "                \n",
    "        self.BiasWigth = function(self.BiasWigth, self.Bias, y, e,  alpha)\n"
   ]
  },
  {
   "cell_type": "code",
   "execution_count": 99,
   "metadata": {},
   "outputs": [],
   "source": [
    "class HebbNetwork:\n",
    "    def __init__(self, neuronsCountArray, eps = 0.1, alpha = 0.1):\n",
    "        '''\n",
    "        neuronsCountArray example [25, 14, 7, 3, 1] where each number mean\n",
    "         a count of neurons in the layer\n",
    "        ''' \n",
    "        self.Alpha = alpha\n",
    "        self.Eps = eps\n",
    "        self.T = 0\n",
    "        self.L = []\n",
    "        self.Neurons = {}\n",
    "        for i in range(1, len(neuronsCountArray)):\n",
    "          self.Neurons[i] = []\n",
    "          for j in range(neuronsCountArray[i]):\n",
    "            self.Neurons[i].append(Neuron(np.random.rand(neuronsCountArray[i-1]), 1)) \n",
    "    \n",
    "    def fit(self, X, y):\n",
    "        t = 1\n",
    "        self.CalculateLoss(X,y)\n",
    "        while self.L[len(self.L)-1] > self.Eps and t < 1000:\n",
    "            for i in range(len(X)):\n",
    "                e = self.feedforward(X[i])\n",
    "                if e != y[i]:\n",
    "                    self.WeightCorrection(e, y[i])\n",
    "                    self.CalculateLoss(X,y)\n",
    "                    t+=1\n",
    "                if self.L[len(self.L)-1] > self.Eps:\n",
    "                   break\n",
    "        print(\"network was learned for\",t,\"generations\")\n",
    "        self.T = t\n",
    "    \n",
    "    def predict(self, data):\n",
    "        return self.feedforward(data)\n",
    "        \n",
    "    def feedforward(self, inputs):\n",
    "        y = [neuron.feedforward(inputs) for neuron in self.Neurons[1]]\n",
    "        for i in self.Neurons:\n",
    "          if i == 1:\n",
    "            continue\n",
    "          else:\n",
    "            y = [neuron.feedforward(y) for neuron in self.Neurons[i]]\n",
    "        \n",
    "        return y[0]\n",
    "\n",
    "    def CalculateLoss(self, x,y):\n",
    "      loss = 0\n",
    "      for j in range(len(x)):\n",
    "        e = self.feedforward(x[j])\n",
    "        if e != y[j]:\n",
    "          loss +=1\n",
    "      self.L.append(loss/len(x))\n",
    "      return loss/len(x)\n",
    "\n",
    "\n",
    "    def WeightCorrection(self,y,e):\n",
    "        function = Hebba\n",
    "        for i in self.Neurons:\n",
    "          [neuron.WeightCorrection(function,y,e,self.Alpha) for neuron in self.Neurons[i]]"
   ]
  },
  {
   "cell_type": "code",
   "execution_count": 100,
   "metadata": {},
   "outputs": [],
   "source": [
    "X_train, X_test, y_train, y_test = train_test_split(x, y, test_size=0.33, random_state=42)"
   ]
  },
  {
   "cell_type": "code",
   "execution_count": 101,
   "metadata": {},
   "outputs": [
    {
     "name": "stdout",
     "output_type": "stream",
     "text": [
      "Trains\n"
     ]
    },
    {
     "data": {
      "image/png": "[encoded data removed]",
      "text/plain": [
       "<Figure size 640x480 with 7 Axes>"
      ]
     },
     "metadata": {},
     "output_type": "display_data"
    },
    {
     "name": "stdout",
     "output_type": "stream",
     "text": [
      "Tests\n"
     ]
    },
    {
     "data": {
      "image/png": "[encoded data removed]",
      "text/plain": [
       "<Figure size 640x480 with 2 Axes>"
      ]
     },
     "metadata": {},
     "output_type": "display_data"
    }
   ],
   "source": [
    "print(\"Trains\")\n",
    "for i in range(7):\n",
    "  plt.subplot(1,7, i+1)\n",
    "  plt.imshow(X_train[i].reshape(5,5), cmap = \"gray\")\n",
    "plt.show()\n",
    "print(\"Tests\")\n",
    "for i in range(2):\n",
    "  plt.subplot(1,2, i+1)\n",
    "  plt.imshow(X_test[i].reshape(5,5), cmap = \"gray\")"
   ]
  },
  {
   "cell_type": "code",
   "execution_count": 102,
   "metadata": {},
   "outputs": [
    {
     "name": "stdout",
     "output_type": "stream",
     "text": [
      "k = 1 accuracity = 0.75\n",
      "k = 3 accuracity = 0.75\n",
      "k = 5 accuracity = 0.0\n",
      "k = 7 accuracity = 0.5\n"
     ]
    }
   ],
   "source": [
    "\n",
    "kVals = [1, 3, 5, 7]\n",
    "for k in kVals:\n",
    "  knn = KNN(k, X_train, y_train)\n",
    "  pred = knn.predict(X_test)\n",
    "  print(\"k =\",k ,'accuracity =', accuracy_score(y_test, pred))"
   ]
  },
  {
   "cell_type": "code",
   "execution_count": 104,
   "metadata": {},
   "outputs": [],
   "source": [
    "perceptron = HebbNetwork([25, 1], 0.2, 0.4)\n",
    "perceptron.fit(x,y)\n",
    "print(\"testLoss: \",perceptron.CalculateLoss(x, y))\n",
    "plt.plot(range(1,perceptron.T+1), perceptron.L[:perceptron.T])"
   ]
  }
 ],
 "metadata": {
  "kernelspec": {
   "display_name": "Python 3",
   "language": "python",
   "name": "python3"
  },
  "language_info": {
   "codemirror_mode": {
    "name": "ipython",
    "version": 3
   },
   "file_extension": ".py",
   "mimetype": "text/x-python",
   "name": "python",
   "nbconvert_exporter": "python",
   "pygments_lexer": "ipython3",
   "version": "3.11.0"
  },
  "orig_nbformat": 4,
  "vscode": {
   "interpreter": {
    "hash": "4796165581db96dfd42d56f14122ea19f7e6c9b81ead3de0b1c30379a726af38"
   }
  }
 },
 "nbformat": 4,
 "nbformat_minor": 2
}
