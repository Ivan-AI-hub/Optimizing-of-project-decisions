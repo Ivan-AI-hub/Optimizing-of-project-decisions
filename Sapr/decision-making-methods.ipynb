{
 "cells": [
  {
   "cell_type": "code",
   "execution_count": 1,
   "metadata": {},
   "outputs": [],
   "source": [
    "import numpy as np"
   ]
  },
  {
   "cell_type": "code",
   "execution_count": 2,
   "metadata": {},
   "outputs": [
    {
     "name": "stdout",
     "output_type": "stream",
     "text": [
      "[[1.   2.   3.   4.   5.   6.  ]\n",
      " [5.   2.   6.   5.   7.   4.  ]\n",
      " [0.8  0.8  0.8  0.6  0.55 0.65]\n",
      " [0.2  0.8  0.6  0.8  0.6  0.8 ]]\n",
      "[[1.   5.   0.8  0.2 ]\n",
      " [2.   2.   0.8  0.8 ]\n",
      " [3.   6.   0.8  0.6 ]\n",
      " [4.   5.   0.6  0.8 ]\n",
      " [5.   7.   0.55 0.6 ]\n",
      " [6.   4.   0.65 0.8 ]]\n"
     ]
    }
   ],
   "source": [
    "naming = [1,2,3,4,5,6]\n",
    "cat2_dict ={\"развитая\": 0.8, \"средняя\": 0.6}\n",
    "cat3_dict ={\"сомнительная\": 0.2, \"средняя\": 0.6, \"хорошая\": 0.8}\n",
    "category1 = [5, 2, 6, 5, 7, 4]\n",
    "category2 = [cat2_dict[\"развитая\"], cat2_dict[\"развитая\"],\n",
    "             cat2_dict[\"развитая\"],cat2_dict[\"средняя\"],\n",
    "             cat2_dict[\"средняя\"]-0.05, cat2_dict[\"средняя\"] + 0.05]\n",
    "category3 = [cat3_dict[\"сомнительная\"], cat3_dict[\"хорошая\"],\n",
    "             cat3_dict[\"средняя\"], cat3_dict[\"хорошая\"],\n",
    "             cat3_dict[\"средняя\"], cat3_dict[\"хорошая\"]]\n",
    "\n",
    "decision_matrix = np.array([naming, category1, category2, category3])\n",
    "print(decision_matrix)\n",
    "decision_matrix = decision_matrix.T\n",
    "print(decision_matrix)"
   ]
  },
  {
   "cell_type": "code",
   "execution_count": 3,
   "metadata": {},
   "outputs": [
    {
     "name": "stdout",
     "output_type": "stream",
     "text": [
      "(6, 4)\n",
      "delete [1.  5.  0.8 0.2]\n",
      "[[2.   2.   0.8  0.8 ]\n",
      " [3.   6.   0.8  0.6 ]\n",
      " [4.   5.   0.6  0.8 ]\n",
      " [5.   7.   0.55 0.6 ]\n",
      " [6.   4.   0.65 0.8 ]]\n"
     ]
    }
   ],
   "source": [
    "print(decision_matrix.shape)\n",
    "isOkey = False\n",
    "while not isOkey:\n",
    "    isOkey = True\n",
    "    for i in range(decision_matrix.shape[0]):\n",
    "        if isOkey == False:\n",
    "            break\n",
    "\n",
    "        for j in range(decision_matrix.shape[0]):\n",
    "            if(i == j):\n",
    "                continue\n",
    "            f_row = decision_matrix[i]\n",
    "            s_row = decision_matrix[j]\n",
    "            \n",
    "            better_count = 0\n",
    "            \n",
    "            for k in range(1, len(f_row)):\n",
    "                if f_row[k] >= s_row[k]:\n",
    "                    better_count +=1\n",
    "\n",
    "            if better_count == len(f_row)-1:\n",
    "                print('delete', s_row)\n",
    "                decision_matrix = np.delete(decision_matrix, j, 0)\n",
    "                isOkey = False\n",
    "                break\n",
    "\n",
    "print(decision_matrix)"
   ]
  },
  {
   "cell_type": "code",
   "execution_count": 4,
   "metadata": {},
   "outputs": [
    {
     "name": "stdout",
     "output_type": "stream",
     "text": [
      "[13 14 18] 45\n",
      "[0.28888889 0.31111111 0.4       ] 1.0\n"
     ]
    }
   ],
   "source": [
    "eksprt1 = np.array([7,6,9])\n",
    "eksprt2 = np.array([6,8,9])\n",
    "\n",
    "eksprt_sum = eksprt1 + eksprt2\n",
    "sum_of_rating = np.sum(eksprt_sum)\n",
    "print(eksprt_sum, sum_of_rating)\n",
    "w = eksprt_sum / sum_of_rating\n",
    "print(w, np.sum(w))"
   ]
  },
  {
   "cell_type": "code",
   "execution_count": 5,
   "metadata": {},
   "outputs": [
    {
     "name": "stdout",
     "output_type": "stream",
     "text": [
      "[[1.         0.71111111 0.71111111 0.71111111 0.71111111]\n",
      " [0.6        1.         0.6        0.71111111 0.6       ]\n",
      " [0.68888889 0.4        1.         0.71111111 0.68888889]\n",
      " [0.28888889 0.68888889 0.28888889 1.         0.28888889]\n",
      " [0.68888889 0.4        0.71111111 0.71111111 1.        ]]\n"
     ]
    }
   ],
   "source": [
    "c = np.zeros((decision_matrix.shape[0],decision_matrix.shape[0]))\n",
    "for i in range(decision_matrix.shape[0]):\n",
    "    for j in range(decision_matrix.shape[0]):\n",
    "        if(i == j):\n",
    "            c[i][j] = 1\n",
    "            continue\n",
    "        f_row = decision_matrix[i]\n",
    "        s_row = decision_matrix[j]\n",
    "        \n",
    "        betters_indexs = []\n",
    "        for k in range(1, len(f_row)):\n",
    "            if f_row[k] >= s_row[k]:\n",
    "                betters_indexs.append(k-1)\n",
    "        \n",
    "        for k in betters_indexs:\n",
    "            c[i][j] += w[k]\n",
    "\n",
    "print(c)"
   ]
  },
  {
   "cell_type": "code",
   "execution_count": 6,
   "metadata": {},
   "outputs": [
    {
     "name": "stdout",
     "output_type": "stream",
     "text": [
      "[[0.         1.15555556 0.86666667 1.44444444 0.57777778]\n",
      " [0.08       0.         0.08       0.28888889 0.08      ]\n",
      " [0.06222222 0.28888889 0.         0.57777778 0.01555556]\n",
      " [0.08       0.07777778 0.08       0.         0.08      ]\n",
      " [0.04666667 0.57777778 0.28888889 0.86666667 0.        ]]\n"
     ]
    }
   ],
   "source": [
    "d = np.zeros((decision_matrix.shape[0],decision_matrix.shape[0]))\n",
    "for i in range(decision_matrix.shape[0]):\n",
    "    for j in range(decision_matrix.shape[0]):\n",
    "        if(i == j):\n",
    "            continue\n",
    "        f_row = decision_matrix[i]\n",
    "        s_row = decision_matrix[j]\n",
    "        \n",
    "        worstes_indexs = []\n",
    "        for k in range(1, len(f_row)):\n",
    "            if f_row[k] < s_row[k]:\n",
    "                worstes_indexs.append(k-1)\n",
    "        \n",
    "        for k in worstes_indexs:\n",
    "            val = np.abs((f_row[k+1] - s_row[k+1]) * w[k])\n",
    "            if val > d[i][j]:\n",
    "                d[i][j] = val\n",
    "\n",
    "print(d)"
   ]
  },
  {
   "cell_type": "code",
   "execution_count": 7,
   "metadata": {},
   "outputs": [
    {
     "name": "stdout",
     "output_type": "stream",
     "text": [
      "[[2.   2.   0.8  0.8 ]\n",
      " [3.   6.   0.8  0.6 ]\n",
      " [4.   5.   0.6  0.8 ]\n",
      " [5.   7.   0.55 0.6 ]\n",
      " [6.   4.   0.65 0.8 ]]\n",
      "[0.71111111 0.6        0.4        0.28888889 0.4       ]\n",
      "[1.44444444 0.28888889 0.57777778 0.08       0.86666667]\n"
     ]
    }
   ],
   "source": [
    "c_v = np.amin(c, 1)\n",
    "d_v = np.amax(d, 1)\n",
    "print(decision_matrix)\n",
    "print(c_v)\n",
    "print(d_v)"
   ]
  },
  {
   "cell_type": "code",
   "execution_count": 8,
   "metadata": {},
   "outputs": [
    {
     "name": "stdout",
     "output_type": "stream",
     "text": [
      "[0.71111111 0.6        0.         0.         0.        ]\n",
      "[0.         0.28888889 0.         0.08       0.        ]\n",
      "[[3.  6.  0.8 0.6]]\n"
     ]
    }
   ],
   "source": [
    "c_core = 0.5\n",
    "d_core = 0.5\n",
    "\n",
    "c_indx = np.where(c_v > c_core, c_v, 0)\n",
    "print(c_indx)\n",
    "d_indx = np.where(d_v < d_core, d_v, 0)\n",
    "print(d_indx)\n",
    "\n",
    "rez = []\n",
    "for i in range(len(c_indx)):\n",
    "    if c_indx[i] != 0 and d_indx[i] != 0:\n",
    "        rez.append(i)\n",
    "\n",
    "print(decision_matrix[rez])\n"
   ]
  },
  {
   "cell_type": "markdown",
   "metadata": {},
   "source": []
  }
 ],
 "metadata": {
  "kernelspec": {
   "display_name": "Python 3",
   "language": "python",
   "name": "python3"
  },
  "language_info": {
   "codemirror_mode": {
    "name": "ipython",
    "version": 3
   },
   "file_extension": ".py",
   "mimetype": "text/x-python",
   "name": "python",
   "nbconvert_exporter": "python",
   "pygments_lexer": "ipython3",
   "version": "3.11.0"
  },
  "orig_nbformat": 4,
  "vscode": {
   "interpreter": {
    "hash": "4796165581db96dfd42d56f14122ea19f7e6c9b81ead3de0b1c30379a726af38"
   }
  }
 },
 "nbformat": 4,
 "nbformat_minor": 2
}
