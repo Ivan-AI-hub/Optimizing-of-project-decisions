{
 "cells": [
  {
   "cell_type": "code",
   "execution_count": 15,
   "metadata": {},
   "outputs": [],
   "source": [
    "import numpy as np\n",
    "import numpy.ma as ma\n",
    "import random as rnd\n",
    "import itertools"
   ]
  },
  {
   "cell_type": "code",
   "execution_count": 14,
   "metadata": {},
   "outputs": [],
   "source": [
    "alph = {\n",
    "        'a' : 1, \n",
    "        'b' : 2, \n",
    "        'c' : 3, \n",
    "        'd' : 4, \n",
    "        'e' : 5, \n",
    "        'f' : 6, \n",
    "        'g' : 7, \n",
    "        'h' : 8, \n",
    "        'i' : 9, \n",
    "        'j' : 10, \n",
    "        'k' : 11, \n",
    "        'l' : 12, \n",
    "        'm' : 13, \n",
    "        'n' : 14, \n",
    "        'o' : 15, \n",
    "        'p' : 16, \n",
    "        'q' : 17, \n",
    "        'r' : 18, \n",
    "        's' : 19, \n",
    "        't' : 20, \n",
    "        'u' : 21, \n",
    "        'v' : 22, \n",
    "        'w' : 23, \n",
    "        'x' : 24, \n",
    "        'y' : 25, \n",
    "        'z' : 26\n",
    "    }\n",
    "\n",
    "t_1 = [0, alph['a'], alph['n'], alph['d'], alph['r']]\n",
    "\n",
    "t_2 = [alph['a'], 0, alph['e'], alph['e'], alph['v']]\n",
    "\n",
    "t_3 = [alph['n'], alph['e'], 0, alph['e'], alph['t']]\n",
    "\n",
    "t_4 = [alph['d'], alph['e'], alph['e'], 0, alph['s']]\n",
    "\n",
    "t_5 = [ alph['r'], alph['v'],alph['t'], alph['s'], 0]\n",
    "\n",
    "tr_matrix = [t_1, t_2, t_3, t_4, t_5]"
   ]
  },
  {
   "attachments": {},
   "cell_type": "markdown",
   "metadata": {},
   "source": [
    "Greedy"
   ]
  },
  {
   "cell_type": "code",
   "execution_count": 9,
   "metadata": {},
   "outputs": [],
   "source": [
    "def GredySearch(matrix, start_id = 0):\n",
    "    path = []\n",
    "    current_id = start_id\n",
    "    for i in range(len(matrix)):\n",
    "        min_id = FindMinIndex(matrix, current_id, path)\n",
    "        path.append(current_id)\n",
    "        current_id = min_id\n",
    "    return path\n",
    "\n",
    "def FindMinIndex(matrix,total_index, path):\n",
    "    row = matrix[total_index]\n",
    "    sub_row = np.copy(row)\n",
    "\n",
    "    for i in path:\n",
    "        sub_row[i] = 0\n",
    "\n",
    "    minvalpos = np.argmin(ma.masked_where(sub_row==0, sub_row))  \n",
    "    return minvalpos\n",
    "    "
   ]
  },
  {
   "cell_type": "code",
   "execution_count": 10,
   "metadata": {},
   "outputs": [],
   "source": [
    "def ExhaustiveSearch(matrix):\n",
    "    base_path = np.arange(len(matrix))\n",
    "    perm_set = itertools.permutations(base_path)\n",
    "    best_path = np.arange(len(matrix))\n",
    "    best_time = 1000\n",
    "    worst_time = 0\n",
    "    for i in perm_set:\n",
    "\n",
    "        time = 0\n",
    "        for j in range(len(i)):\n",
    "            if j != len(i) - 1:\n",
    "                time += tr_matrix[i[j]][i[j+1]]\n",
    "            else:\n",
    "                time += tr_matrix[i[j]][i[0]]\n",
    "        if(time < best_time):\n",
    "            best_time = time\n",
    "            best_path = i\n",
    "            best_path = np.append(best_path, i[0])\n",
    "        if(time > worst_time):\n",
    "            worst_time = time\n",
    "    return (best_path, best_time, worst_time)\n",
    "    "
   ]
  },
  {
   "cell_type": "code",
   "execution_count": 11,
   "metadata": {},
   "outputs": [
    {
     "name": "stdout",
     "output_type": "stream",
     "text": [
      "if start is  0 id\n",
      "time =  48\n",
      "patch=  [0, 1, 2, 3, 4, 0]\n",
      "\n",
      "if start is  1 id\n",
      "time =  52\n",
      "patch=  [1, 0, 3, 2, 4, 1]\n",
      "\n",
      "if start is  2 id\n",
      "time =  49\n",
      "patch=  [2, 1, 0, 3, 4, 2]\n",
      "\n",
      "if start is  3 id\n",
      "time =  49\n",
      "patch=  [3, 0, 1, 2, 4, 3]\n",
      "\n",
      "if start is  4 id\n",
      "time =  48\n",
      "patch=  [4, 0, 1, 2, 3, 4]\n",
      "\n"
     ]
    }
   ],
   "source": [
    "for k in range(5):\n",
    "    gredyPath = GredySearch(tr_matrix, k)\n",
    "    gredyPath.append(gredyPath[0])\n",
    "    time = 0\n",
    "    for i in range(len(gredyPath)-1):\n",
    "        time += tr_matrix[gredyPath[i]][gredyPath[i+1]]\n",
    "\n",
    "    print(\"if start is \", k, \"id\")\n",
    "    print(\"time = \", time)\n",
    "    print(\"patch= \", gredyPath)\n",
    "    print()"
   ]
  },
  {
   "cell_type": "code",
   "execution_count": 12,
   "metadata": {},
   "outputs": [
    {
     "name": "stdout",
     "output_type": "stream",
     "text": [
      "best path:  [0 1 2 3 4 0]\n",
      "best time:  48\n",
      "worst time:  65\n"
     ]
    }
   ],
   "source": [
    "(best_path, best_time, worst_time) = ExhaustiveSearch(tr_matrix)\n",
    "print(\"best path: \", best_path)\n",
    "print(\"best time: \", best_time)\n",
    "print(\"worst time: \",  worst_time)\n"
   ]
  },
  {
   "cell_type": "code",
   "execution_count": 16,
   "metadata": {},
   "outputs": [],
   "source": [
    "def create_matrix_random(size):\n",
    "    result_matrix_random = np.zeros((size, size))\n",
    "    np.fill_diagonal(result_matrix_random, 34)\n",
    "\n",
    "    for i in range(size):\n",
    "        for j in range(size):\n",
    "            if(j <= i - 1):\n",
    "                result_matrix_random[i, j] = rnd.randint(1, 33)\n",
    "                result_matrix_random[j, i] = result_matrix_random[i, j]\n",
    "\n",
    "    print(\"Начальная матрица(random): \")\n",
    "    print(result_matrix_random)\n",
    "    return result_matrix_random"
   ]
  },
  {
   "cell_type": "code",
   "execution_count": 17,
   "metadata": {},
   "outputs": [
    {
     "name": "stdout",
     "output_type": "stream",
     "text": [
      "Начальная матрица(random): \n",
      "[[34.  5. 22.  6. 14.  8.  9. 27. 17. 16.]\n",
      " [ 5. 34.  3. 22.  8. 15. 14. 15. 27. 15.]\n",
      " [22.  3. 34. 16. 23. 10.  4. 18.  9. 27.]\n",
      " [ 6. 22. 16. 34.  1.  9. 29. 21. 24. 15.]\n",
      " [14.  8. 23.  1. 34.  3. 15. 20.  8. 26.]\n",
      " [ 8. 15. 10.  9.  3. 34. 29. 29. 25.  8.]\n",
      " [ 9. 14.  4. 29. 15. 29. 34. 31. 12. 28.]\n",
      " [27. 15. 18. 21. 20. 29. 31. 34. 12.  9.]\n",
      " [17. 27.  9. 24.  8. 25. 12. 12. 34. 24.]\n",
      " [16. 15. 27. 15. 26.  8. 28.  9. 24. 34.]]\n",
      "[0, 1, 2, 6, 8, 4, 3, 5, 9, 7]\n"
     ]
    }
   ],
   "source": [
    "matr = create_matrix_random(10)\n",
    "print(GredySearch(matr))"
   ]
  }
 ],
 "metadata": {
  "kernelspec": {
   "display_name": "Python 3",
   "language": "python",
   "name": "python3"
  },
  "language_info": {
   "codemirror_mode": {
    "name": "ipython",
    "version": 3
   },
   "file_extension": ".py",
   "mimetype": "text/x-python",
   "name": "python",
   "nbconvert_exporter": "python",
   "pygments_lexer": "ipython3",
   "version": "3.11.0"
  },
  "orig_nbformat": 4,
  "vscode": {
   "interpreter": {
    "hash": "4796165581db96dfd42d56f14122ea19f7e6c9b81ead3de0b1c30379a726af38"
   }
  }
 },
 "nbformat": 4,
 "nbformat_minor": 2
}
