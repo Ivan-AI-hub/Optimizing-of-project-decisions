{
 "cells": [
  {
   "cell_type": "code",
   "execution_count": null,
   "metadata": {},
   "outputs": [],
   "source": [
    "t_1 = [0, 10, 3, 1, 15]\n",
    "\n",
    "t_2 = [10, 0, 16, 3, 17]\n",
    "\n",
    "t_3 = [3, 16, 0, 6, 20]\n",
    "\n",
    "t_4 = [1, 3, 6, 0, 18]\n",
    "\n",
    "t_5 = [15, 17, 20, 18, 0]\n",
    "\n",
    "tr_matrix = [t_1, t_2, t_3, t_4, t_5]"
   ]
  }
 ],
 "metadata": {
  "kernelspec": {
   "display_name": "Python 3",
   "language": "python",
   "name": "python3"
  },
  "language_info": {
   "name": "python",
   "version": "3.11.0 (main, Oct 24 2022, 18:26:48) [MSC v.1933 64 bit (AMD64)]"
  },
  "orig_nbformat": 4,
  "vscode": {
   "interpreter": {
    "hash": "4796165581db96dfd42d56f14122ea19f7e6c9b81ead3de0b1c30379a726af38"
   }
  }
 },
 "nbformat": 4,
 "nbformat_minor": 2
}
