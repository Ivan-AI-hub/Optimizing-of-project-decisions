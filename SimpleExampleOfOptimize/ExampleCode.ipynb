{
 "cells": [
  {
   "cell_type": "code",
   "execution_count": 118,
   "metadata": {},
   "outputs": [],
   "source": [
    "import numpy as np\n",
    "import numpy.ma as ma\n",
    "import itertools"
   ]
  },
  {
   "cell_type": "code",
   "execution_count": 119,
   "metadata": {},
   "outputs": [],
   "source": [
    "t_1 = [0, 10, 3, 1, 15]\n",
    "\n",
    "t_2 = [10, 0, 16, 3, 17]\n",
    "\n",
    "t_3 = [3, 16, 0, 6, 20]\n",
    "\n",
    "t_4 = [1, 3, 6, 0, 18]\n",
    "\n",
    "t_5 = [15, 17, 20, 18, 0]\n",
    "\n",
    "tr_matrix = [t_1, t_2, t_3, t_4, t_5]"
   ]
  },
  {
   "attachments": {},
   "cell_type": "markdown",
   "metadata": {},
   "source": [
    "Greedy"
   ]
  },
  {
   "cell_type": "code",
   "execution_count": 120,
   "metadata": {},
   "outputs": [],
   "source": [
    "def GredySearch(matrix, start_id = 0):\n",
    "    path = []\n",
    "    current_id = start_id\n",
    "    for i in range(len(matrix)):\n",
    "        min_id = FindMinIndex(matrix, current_id, path)\n",
    "        path.append(current_id)\n",
    "        current_id = min_id\n",
    "    return path\n",
    "\n",
    "def FindMinIndex(matrix,total_index, path):\n",
    "    row = matrix[total_index]\n",
    "    sub_row = np.copy(row)\n",
    "\n",
    "    for i in path:\n",
    "        sub_row[i] = 0\n",
    "\n",
    "    minvalpos = np.argmin(ma.masked_where(sub_row==0, sub_row))  \n",
    "    return minvalpos\n",
    "    "
   ]
  },
  {
   "cell_type": "code",
   "execution_count": 121,
   "metadata": {},
   "outputs": [],
   "source": [
    "def ExhaustiveSearch(matrix):\n",
    "    base_path = np.arange(len(matrix))\n",
    "    perm_set = itertools.permutations(base_path)\n",
    "    best_path = np.arange(len(matrix))\n",
    "    best_time = 1000\n",
    "    worst_time = 0\n",
    "    for i in perm_set:\n",
    "\n",
    "        time = 0\n",
    "        for j in range(len(i)):\n",
    "            if j != len(i) - 1:\n",
    "                time += tr_matrix[i[j]][i[j+1]]\n",
    "            else:\n",
    "                time += tr_matrix[i[j]][i[0]]\n",
    "        if(time < best_time):\n",
    "            best_time = time\n",
    "            best_path = i\n",
    "            best_path = np.append(best_path, i[0])\n",
    "        if(time > worst_time):\n",
    "            worst_time = time\n",
    "    return (best_path, best_time, worst_time)\n",
    "    "
   ]
  },
  {
   "cell_type": "code",
   "execution_count": 122,
   "metadata": {},
   "outputs": [
    {
     "name": "stdout",
     "output_type": "stream",
     "text": [
      "if start is  0 id\n",
      "time =  55\n",
      "patch=  [0, 3, 1, 2, 4, 0]\n",
      "\n",
      "if start is  1 id\n",
      "time =  44\n",
      "patch=  [1, 3, 0, 2, 4, 1]\n",
      "\n",
      "if start is  2 id\n",
      "time =  44\n",
      "patch=  [2, 0, 3, 1, 4, 2]\n",
      "\n",
      "if start is  3 id\n",
      "time =  55\n",
      "patch=  [3, 0, 2, 1, 4, 3]\n",
      "\n",
      "if start is  4 id\n",
      "time =  55\n",
      "patch=  [4, 0, 3, 1, 2, 4]\n",
      "\n"
     ]
    }
   ],
   "source": [
    "for k in range(5):\n",
    "    gredyPath = GredySearch(tr_matrix, k)\n",
    "    gredyPath.append(gredyPath[0])\n",
    "    time = 0\n",
    "    for i in range(len(gredyPath)-1):\n",
    "        time += tr_matrix[gredyPath[i]][gredyPath[i+1]]\n",
    "\n",
    "    print(\"if start is \", k, \"id\")\n",
    "    print(\"time = \", time)\n",
    "    print(\"patch= \", gredyPath)\n",
    "    print()"
   ]
  },
  {
   "cell_type": "code",
   "execution_count": 123,
   "metadata": {},
   "outputs": [
    {
     "name": "stdout",
     "output_type": "stream",
     "text": [
      "best path:  [0 2 3 1 4 0]\n",
      "best time:  44\n",
      "worst time:  65\n"
     ]
    }
   ],
   "source": [
    "(best_path, best_time, worst_time) = ExhaustiveSearch(tr_matrix)\n",
    "print(\"best path: \", best_path)\n",
    "print(\"best time: \", best_time)\n",
    "print(\"worst time: \",  worst_time)\n"
   ]
  }
 ],
 "metadata": {
  "kernelspec": {
   "display_name": "Python 3",
   "language": "python",
   "name": "python3"
  },
  "language_info": {
   "codemirror_mode": {
    "name": "ipython",
    "version": 3
   },
   "file_extension": ".py",
   "mimetype": "text/x-python",
   "name": "python",
   "nbconvert_exporter": "python",
   "pygments_lexer": "ipython3",
   "version": "3.11.0"
  },
  "orig_nbformat": 4,
  "vscode": {
   "interpreter": {
    "hash": "4796165581db96dfd42d56f14122ea19f7e6c9b81ead3de0b1c30379a726af38"
   }
  }
 },
 "nbformat": 4,
 "nbformat_minor": 2
}
